{
 "cells": [
  {
   "cell_type": "code",
   "execution_count": null,
   "id": "b1c20eda-be10-4c1a-885e-551d55fc59c8",
   "metadata": {},
   "outputs": [],
   "source": []
  },
  {
   "cell_type": "code",
   "execution_count": 61,
   "id": "1f47b82f-e8db-4fce-8570-6635bc6b8487",
   "metadata": {
    "scrolled": true
   },
   "outputs": [],
   "source": [
    "# !pip install tensorflow"
   ]
  },
  {
   "cell_type": "code",
   "execution_count": 2,
   "id": "092c53ee-7930-484c-b7f0-4f59c1505b62",
   "metadata": {},
   "outputs": [],
   "source": [
    "import numpy as np\n",
    "import pandas as pd\n",
    "import matplotlib.pyplot as plt\n",
    "from sklearn.preprocessing import MinMaxScaler\n",
    "from tensorflow.keras.models import Sequential\n",
    "from tensorflow.keras.layers import LSTM, Dense, Dropout\n",
    "\n"
   ]
  },
  {
   "cell_type": "code",
   "execution_count": 3,
   "id": "85b90f29-7dbf-49f3-82ce-098d31281519",
   "metadata": {},
   "outputs": [],
   "source": [
    "# Load the dataset\n",
    "dataset = pd.read_csv('Microsoft_Stock.csv')"
   ]
  },
  {
   "cell_type": "code",
   "execution_count": 4,
   "id": "35979f45-7217-484f-949f-aabc50de9b0c",
   "metadata": {},
   "outputs": [
    {
     "data": {
      "text/html": [
       "<div>\n",
       "<style scoped>\n",
       "    .dataframe tbody tr th:only-of-type {\n",
       "        vertical-align: middle;\n",
       "    }\n",
       "\n",
       "    .dataframe tbody tr th {\n",
       "        vertical-align: top;\n",
       "    }\n",
       "\n",
       "    .dataframe thead th {\n",
       "        text-align: right;\n",
       "    }\n",
       "</style>\n",
       "<table border=\"1\" class=\"dataframe\">\n",
       "  <thead>\n",
       "    <tr style=\"text-align: right;\">\n",
       "      <th></th>\n",
       "      <th>Date</th>\n",
       "      <th>Open</th>\n",
       "      <th>High</th>\n",
       "      <th>Low</th>\n",
       "      <th>Close</th>\n",
       "      <th>Volume</th>\n",
       "    </tr>\n",
       "  </thead>\n",
       "  <tbody>\n",
       "    <tr>\n",
       "      <th>0</th>\n",
       "      <td>4/1/2015 16:00:00</td>\n",
       "      <td>40.60</td>\n",
       "      <td>40.76</td>\n",
       "      <td>40.31</td>\n",
       "      <td>40.72</td>\n",
       "      <td>36865322</td>\n",
       "    </tr>\n",
       "    <tr>\n",
       "      <th>1</th>\n",
       "      <td>4/2/2015 16:00:00</td>\n",
       "      <td>40.66</td>\n",
       "      <td>40.74</td>\n",
       "      <td>40.12</td>\n",
       "      <td>40.29</td>\n",
       "      <td>37487476</td>\n",
       "    </tr>\n",
       "    <tr>\n",
       "      <th>2</th>\n",
       "      <td>4/6/2015 16:00:00</td>\n",
       "      <td>40.34</td>\n",
       "      <td>41.78</td>\n",
       "      <td>40.18</td>\n",
       "      <td>41.55</td>\n",
       "      <td>39223692</td>\n",
       "    </tr>\n",
       "    <tr>\n",
       "      <th>3</th>\n",
       "      <td>4/7/2015 16:00:00</td>\n",
       "      <td>41.61</td>\n",
       "      <td>41.91</td>\n",
       "      <td>41.31</td>\n",
       "      <td>41.53</td>\n",
       "      <td>28809375</td>\n",
       "    </tr>\n",
       "    <tr>\n",
       "      <th>4</th>\n",
       "      <td>4/8/2015 16:00:00</td>\n",
       "      <td>41.48</td>\n",
       "      <td>41.69</td>\n",
       "      <td>41.04</td>\n",
       "      <td>41.42</td>\n",
       "      <td>24753438</td>\n",
       "    </tr>\n",
       "  </tbody>\n",
       "</table>\n",
       "</div>"
      ],
      "text/plain": [
       "                Date   Open   High    Low  Close    Volume\n",
       "0  4/1/2015 16:00:00  40.60  40.76  40.31  40.72  36865322\n",
       "1  4/2/2015 16:00:00  40.66  40.74  40.12  40.29  37487476\n",
       "2  4/6/2015 16:00:00  40.34  41.78  40.18  41.55  39223692\n",
       "3  4/7/2015 16:00:00  41.61  41.91  41.31  41.53  28809375\n",
       "4  4/8/2015 16:00:00  41.48  41.69  41.04  41.42  24753438"
      ]
     },
     "execution_count": 4,
     "metadata": {},
     "output_type": "execute_result"
    }
   ],
   "source": [
    "dataset.head()"
   ]
  },
  {
   "cell_type": "code",
   "execution_count": 5,
   "id": "010ee556-d1d3-4d10-a9d1-a4c6be1b6454",
   "metadata": {},
   "outputs": [
    {
     "name": "stdout",
     "output_type": "stream",
     "text": [
      "<class 'pandas.core.frame.DataFrame'>\n",
      "RangeIndex: 1511 entries, 0 to 1510\n",
      "Data columns (total 6 columns):\n",
      " #   Column  Non-Null Count  Dtype  \n",
      "---  ------  --------------  -----  \n",
      " 0   Date    1511 non-null   object \n",
      " 1   Open    1511 non-null   float64\n",
      " 2   High    1511 non-null   float64\n",
      " 3   Low     1511 non-null   float64\n",
      " 4   Close   1511 non-null   float64\n",
      " 5   Volume  1511 non-null   int64  \n",
      "dtypes: float64(4), int64(1), object(1)\n",
      "memory usage: 71.0+ KB\n"
     ]
    }
   ],
   "source": [
    "dataset.info()"
   ]
  },
  {
   "cell_type": "code",
   "execution_count": 6,
   "id": "6607077c-a255-42b2-86a6-4bd0457dbd9b",
   "metadata": {},
   "outputs": [],
   "source": [
    "########### date is object"
   ]
  },
  {
   "cell_type": "code",
   "execution_count": 7,
   "id": "de0b4c65-60e3-4a5f-a084-209260b01f69",
   "metadata": {},
   "outputs": [],
   "source": [
    "dataset['Date'] = pd.to_datetime(dataset['Date'])"
   ]
  },
  {
   "cell_type": "code",
   "execution_count": 8,
   "id": "7b7abd5b-c061-4bfc-97d7-271795c2bc09",
   "metadata": {},
   "outputs": [
    {
     "name": "stdout",
     "output_type": "stream",
     "text": [
      "<class 'pandas.core.frame.DataFrame'>\n",
      "RangeIndex: 1511 entries, 0 to 1510\n",
      "Data columns (total 6 columns):\n",
      " #   Column  Non-Null Count  Dtype         \n",
      "---  ------  --------------  -----         \n",
      " 0   Date    1511 non-null   datetime64[ns]\n",
      " 1   Open    1511 non-null   float64       \n",
      " 2   High    1511 non-null   float64       \n",
      " 3   Low     1511 non-null   float64       \n",
      " 4   Close   1511 non-null   float64       \n",
      " 5   Volume  1511 non-null   int64         \n",
      "dtypes: datetime64[ns](1), float64(4), int64(1)\n",
      "memory usage: 71.0 KB\n"
     ]
    }
   ],
   "source": [
    "dataset.info()"
   ]
  },
  {
   "cell_type": "code",
   "execution_count": 9,
   "id": "6a70b715-f6f4-433b-b988-110213478c68",
   "metadata": {},
   "outputs": [],
   "source": [
    "dataset.set_index('Date',inplace=True)"
   ]
  },
  {
   "cell_type": "code",
   "execution_count": 10,
   "id": "c67f9464-0d55-45e9-8b9b-b3374c8e3a89",
   "metadata": {},
   "outputs": [
    {
     "data": {
      "text/html": [
       "<div>\n",
       "<style scoped>\n",
       "    .dataframe tbody tr th:only-of-type {\n",
       "        vertical-align: middle;\n",
       "    }\n",
       "\n",
       "    .dataframe tbody tr th {\n",
       "        vertical-align: top;\n",
       "    }\n",
       "\n",
       "    .dataframe thead th {\n",
       "        text-align: right;\n",
       "    }\n",
       "</style>\n",
       "<table border=\"1\" class=\"dataframe\">\n",
       "  <thead>\n",
       "    <tr style=\"text-align: right;\">\n",
       "      <th></th>\n",
       "      <th>Open</th>\n",
       "      <th>High</th>\n",
       "      <th>Low</th>\n",
       "      <th>Close</th>\n",
       "      <th>Volume</th>\n",
       "    </tr>\n",
       "    <tr>\n",
       "      <th>Date</th>\n",
       "      <th></th>\n",
       "      <th></th>\n",
       "      <th></th>\n",
       "      <th></th>\n",
       "      <th></th>\n",
       "    </tr>\n",
       "  </thead>\n",
       "  <tbody>\n",
       "    <tr>\n",
       "      <th>2015-04-01 16:00:00</th>\n",
       "      <td>40.60</td>\n",
       "      <td>40.76</td>\n",
       "      <td>40.31</td>\n",
       "      <td>40.72</td>\n",
       "      <td>36865322</td>\n",
       "    </tr>\n",
       "    <tr>\n",
       "      <th>2015-04-02 16:00:00</th>\n",
       "      <td>40.66</td>\n",
       "      <td>40.74</td>\n",
       "      <td>40.12</td>\n",
       "      <td>40.29</td>\n",
       "      <td>37487476</td>\n",
       "    </tr>\n",
       "    <tr>\n",
       "      <th>2015-04-06 16:00:00</th>\n",
       "      <td>40.34</td>\n",
       "      <td>41.78</td>\n",
       "      <td>40.18</td>\n",
       "      <td>41.55</td>\n",
       "      <td>39223692</td>\n",
       "    </tr>\n",
       "    <tr>\n",
       "      <th>2015-04-07 16:00:00</th>\n",
       "      <td>41.61</td>\n",
       "      <td>41.91</td>\n",
       "      <td>41.31</td>\n",
       "      <td>41.53</td>\n",
       "      <td>28809375</td>\n",
       "    </tr>\n",
       "    <tr>\n",
       "      <th>2015-04-08 16:00:00</th>\n",
       "      <td>41.48</td>\n",
       "      <td>41.69</td>\n",
       "      <td>41.04</td>\n",
       "      <td>41.42</td>\n",
       "      <td>24753438</td>\n",
       "    </tr>\n",
       "  </tbody>\n",
       "</table>\n",
       "</div>"
      ],
      "text/plain": [
       "                      Open   High    Low  Close    Volume\n",
       "Date                                                     \n",
       "2015-04-01 16:00:00  40.60  40.76  40.31  40.72  36865322\n",
       "2015-04-02 16:00:00  40.66  40.74  40.12  40.29  37487476\n",
       "2015-04-06 16:00:00  40.34  41.78  40.18  41.55  39223692\n",
       "2015-04-07 16:00:00  41.61  41.91  41.31  41.53  28809375\n",
       "2015-04-08 16:00:00  41.48  41.69  41.04  41.42  24753438"
      ]
     },
     "execution_count": 10,
     "metadata": {},
     "output_type": "execute_result"
    }
   ],
   "source": [
    "dataset.head()"
   ]
  },
  {
   "cell_type": "code",
   "execution_count": 12,
   "id": "41468fdf",
   "metadata": {},
   "outputs": [
    {
     "data": {
      "image/png": "[encoded data removed]",
      "text/plain": [
       "<Figure size 1600x800 with 1 Axes>"
      ]
     },
     "metadata": {},
     "output_type": "display_data"
    }
   ],
   "source": [
    "\n",
    "# Visualize the data\n",
    "plt.figure(figsize=(16,8))\n",
    "plt.title('Model')\n",
    "plt.xlabel('Date')\n",
    "plt.ylabel('Close Price USD ($)')\n",
    "plt.plot(dataset['Close'])\n",
    "# plt.legend(['Train', 'Val', 'Predictions'], loc='lower right')\n",
    "plt.show()"
   ]
  },
  {
   "cell_type": "code",
   "execution_count": null,
   "id": "50d8d69f",
   "metadata": {},
   "outputs": [],
   "source": []
  },
  {
   "cell_type": "code",
   "execution_count": null,
   "id": "e0fe96eb",
   "metadata": {},
   "outputs": [],
   "source": []
  },
  {
   "cell_type": "code",
   "execution_count": null,
   "id": "d63ab122",
   "metadata": {},
   "outputs": [],
   "source": []
  },
  {
   "cell_type": "code",
   "execution_count": null,
   "id": "e9d0aa85",
   "metadata": {},
   "outputs": [],
   "source": []
  },
  {
   "cell_type": "code",
   "execution_count": 14,
   "id": "672f01af-753f-4741-a50f-8b7afdd96589",
   "metadata": {},
   "outputs": [],
   "source": [
    "data = dataset[['Close']].values"
   ]
  },
  {
   "cell_type": "code",
   "execution_count": 16,
   "id": "7df11b88",
   "metadata": {},
   "outputs": [],
   "source": [
    "# data"
   ]
  },
  {
   "cell_type": "code",
   "execution_count": 17,
   "id": "06293249-30b3-4bbc-b970-dd2fa181102b",
   "metadata": {},
   "outputs": [],
   "source": [
    "scaler = MinMaxScaler(feature_range=(0,1))\n",
    "scaled_data = scaler.fit_transform(data)"
   ]
  },
  {
   "cell_type": "code",
   "execution_count": 18,
   "id": "57024501-285b-4e67-8f9b-d8ac53d466ea",
   "metadata": {},
   "outputs": [
    {
     "data": {
      "text/plain": [
       "array([[0.00210064],\n",
       "       [0.        ],\n",
       "       [0.00615535],\n",
       "       ...,\n",
       "       [0.95236932],\n",
       "       [0.9358085 ],\n",
       "       [0.95495848]])"
      ]
     },
     "execution_count": 18,
     "metadata": {},
     "output_type": "execute_result"
    }
   ],
   "source": [
    "scaled_data"
   ]
  },
  {
   "cell_type": "code",
   "execution_count": 19,
   "id": "d58cf024-261d-4250-89f4-d7ac14b65b7c",
   "metadata": {},
   "outputs": [],
   "source": [
    "training_data_len = int(np.ceil(len(data)*0.8))"
   ]
  },
  {
   "cell_type": "code",
   "execution_count": 20,
   "id": "25e514f0-09ba-4721-ab67-5e7f4624ee51",
   "metadata": {},
   "outputs": [],
   "source": [
    "#split"
   ]
  },
  {
   "cell_type": "code",
   "execution_count": 21,
   "id": "4bfe2718-71ea-4641-a0a6-71b31306e1d3",
   "metadata": {},
   "outputs": [],
   "source": [
    "train_data = scaled_data[0:training_data_len,:]\n",
    "test_data = scaled_data[training_data_len-60:,:]"
   ]
  },
  {
   "cell_type": "code",
   "execution_count": 24,
   "id": "37f7d0b7",
   "metadata": {},
   "outputs": [
    {
     "data": {
      "text/plain": [
       "array([[0.00210064],\n",
       "       [0.        ],\n",
       "       [0.00615535],\n",
       "       [0.00605765],\n",
       "       [0.00552027]])"
      ]
     },
     "execution_count": 24,
     "metadata": {},
     "output_type": "execute_result"
    }
   ],
   "source": [
    "train_data[:5]"
   ]
  },
  {
   "cell_type": "code",
   "execution_count": 25,
   "id": "f1fd2e30",
   "metadata": {},
   "outputs": [
    {
     "data": {
      "text/plain": [
       "array([[0.47361993],\n",
       "       [0.48680997],\n",
       "       [0.49066927],\n",
       "       [0.50757206],\n",
       "       [0.50092819]])"
      ]
     },
     "execution_count": 25,
     "metadata": {},
     "output_type": "execute_result"
    }
   ],
   "source": [
    "test_data[:5]"
   ]
  },
  {
   "cell_type": "code",
   "execution_count": 26,
   "id": "93cd9063-4e99-470f-b05f-a1c4b3949c86",
   "metadata": {},
   "outputs": [],
   "source": [
    "# train_data[0:60,0]"
   ]
  },
  {
   "cell_type": "code",
   "execution_count": 27,
   "id": "eaedf8e2-4be4-4577-90a2-547680031a92",
   "metadata": {},
   "outputs": [],
   "source": [
    "x_train = []\n",
    "y_train = []"
   ]
  },
  {
   "cell_type": "code",
   "execution_count": 28,
   "id": "b8afda78-1dc0-49fc-9610-7a330fc8341e",
   "metadata": {},
   "outputs": [],
   "source": [
    "for i in range(60,len(train_data)):\n",
    "    # only one column so for column we use 0 and \n",
    "    #### for row \n",
    "    # we use 0-59 that is 60 previous rows as input and the 60th row as output \n",
    "    x_train.append(train_data[i-60:i,0])\n",
    "    y_train.append(train_data[i,0])\n",
    "        "
   ]
  },
  {
   "cell_type": "code",
   "execution_count": 34,
   "id": "a68028d9",
   "metadata": {},
   "outputs": [
    {
     "name": "stdout",
     "output_type": "stream",
     "text": [
      "(60,)\n",
      "0.02427943331704932\n"
     ]
    }
   ],
   "source": [
    "print(x_train[0].shape)\n",
    "print(y_train[0])"
   ]
  },
  {
   "cell_type": "code",
   "execution_count": 35,
   "id": "ca9003a8-5130-43fb-bc8c-cfa74515c192",
   "metadata": {},
   "outputs": [
    {
     "name": "stdout",
     "output_type": "stream",
     "text": [
      "[0.00210064 0.         0.00615535 0.00605765 0.00552027 0.00581339\n",
      " 0.00698583 0.00718124 0.00664387 0.00962384 0.00913532 0.00649731\n",
      " 0.01279922 0.01148021 0.01319003 0.01489985 0.0370298  0.03781143\n",
      " 0.0433317  0.04284319 0.0407914  0.04088911 0.03883732 0.0357108\n",
      " 0.02926234 0.03131412 0.03644358 0.0345872  0.0344895  0.03585735\n",
      " 0.04118222 0.03913043 0.03771373 0.03561309 0.03561309 0.03483146\n",
      " 0.03229116 0.03077675 0.03575965 0.03497802 0.03209575 0.03390327\n",
      " 0.03238886 0.0320469  0.02965315 0.02857841 0.02657548 0.02618466\n",
      " 0.03087445 0.03004397 0.02774792 0.02535418 0.027064   0.02774792\n",
      " 0.03141182 0.028383   0.02901808 0.02745481 0.02613581 0.02618466]\n",
      "60\n"
     ]
    }
   ],
   "source": [
    "print(x_train[0])\n",
    "print(len(x_train[0]))"
   ]
  },
  {
   "cell_type": "code",
   "execution_count": 36,
   "id": "4715ed88-8ea4-4b35-b33a-0d20df42ea63",
   "metadata": {},
   "outputs": [
    {
     "name": "stdout",
     "output_type": "stream",
     "text": [
      "0.02427943331704932\n"
     ]
    }
   ],
   "source": [
    "print(y_train[0])"
   ]
  },
  {
   "cell_type": "code",
   "execution_count": 37,
   "id": "b3b498d1-7cde-45f7-b75e-59ea2d479dce",
   "metadata": {},
   "outputs": [],
   "source": [
    "x_train,y_train = np.array(x_train),np.array(y_train)"
   ]
  },
  {
   "cell_type": "code",
   "execution_count": 38,
   "id": "197ee232-774b-46e5-b6eb-0212bb67e85f",
   "metadata": {},
   "outputs": [
    {
     "data": {
      "text/plain": [
       "(1149, 60)"
      ]
     },
     "execution_count": 38,
     "metadata": {},
     "output_type": "execute_result"
    }
   ],
   "source": [
    "x_train.shape"
   ]
  },
  {
   "cell_type": "code",
   "execution_count": 39,
   "id": "7eb568d4-301a-407b-a06b-2e90a82483eb",
   "metadata": {},
   "outputs": [
    {
     "data": {
      "text/plain": [
       "(1149,)"
      ]
     },
     "execution_count": 39,
     "metadata": {},
     "output_type": "execute_result"
    }
   ],
   "source": [
    "y_train.shape"
   ]
  },
  {
   "cell_type": "code",
   "execution_count": 40,
   "id": "98eaa2ac-8a92-46d3-b66d-153d20c60593",
   "metadata": {},
   "outputs": [],
   "source": [
    "## reshapeing x_train is 2d make it 3d"
   ]
  },
  {
   "cell_type": "code",
   "execution_count": 41,
   "id": "475a4471-9db7-462c-b818-5e08f2aacf67",
   "metadata": {},
   "outputs": [],
   "source": [
    "x_train = np.reshape(x_train,(x_train.shape[0],x_train.shape[1],1))"
   ]
  },
  {
   "cell_type": "code",
   "execution_count": 48,
   "id": "d795842e-22b3-46b8-95e9-4d776a3122fd",
   "metadata": {},
   "outputs": [],
   "source": [
    "x_test = []"
   ]
  },
  {
   "cell_type": "code",
   "execution_count": 49,
   "id": "d068940a-c1b2-46a1-a04c-8a7a8c2d77b6",
   "metadata": {},
   "outputs": [],
   "source": [
    "x_test, y_test = [], data[training_data_len:, :]"
   ]
  },
  {
   "cell_type": "code",
   "execution_count": 50,
   "id": "9cb420e2-05f4-4f3d-8330-da406931b04d",
   "metadata": {},
   "outputs": [],
   "source": [
    "for i in range(60, len(test_data)):\n",
    "    x_test.append(test_data[i-60:i, 0])\n"
   ]
  },
  {
   "cell_type": "code",
   "execution_count": 51,
   "id": "5374ba3b",
   "metadata": {},
   "outputs": [],
   "source": [
    "x_test = np.array(x_test)"
   ]
  },
  {
   "cell_type": "code",
   "execution_count": 52,
   "id": "dcccc41d-281c-4925-8a5d-94245f057155",
   "metadata": {},
   "outputs": [],
   "source": [
    "x_test = np.reshape(x_test, (x_test.shape[0], x_test.shape[1], 1))"
   ]
  },
  {
   "cell_type": "code",
   "execution_count": 53,
   "id": "eec5de1d-2889-44b0-a50d-7f6edb09378a",
   "metadata": {},
   "outputs": [],
   "source": [
    "# Build the LSTM model\n",
    "model = Sequential()\n",
    "model.add(LSTM(units=50, return_sequences=True, input_shape=(x_train.shape[1], 1)))\n",
    "model.add(Dropout(0.2))\n",
    "model.add(LSTM(units=50, return_sequences=False))\n",
    "model.add(Dropout(0.2))\n",
    "model.add(Dense(units=25))\n",
    "model.add(Dense(units=1))\n"
   ]
  },
  {
   "cell_type": "code",
   "execution_count": 54,
   "id": "fb7f60e2-edfd-43c0-8415-cfbde9a455f8",
   "metadata": {},
   "outputs": [],
   "source": [
    "model.compile(optimizer='adam',loss='mean_squared_error')"
   ]
  },
  {
   "cell_type": "code",
   "execution_count": 55,
   "id": "5ecb2322-59e7-4e04-b9ec-30546b995cfb",
   "metadata": {},
   "outputs": [
    {
     "name": "stdout",
     "output_type": "stream",
     "text": [
      "Epoch 1/5\n",
      "1149/1149 [==============================] - 41s 30ms/step - loss: 0.0013\n",
      "Epoch 2/5\n",
      "1149/1149 [==============================] - 35s 31ms/step - loss: 7.3972e-04\n",
      "Epoch 3/5\n",
      "1149/1149 [==============================] - 46s 40ms/step - loss: 7.0890e-04\n",
      "Epoch 4/5\n",
      "1149/1149 [==============================] - 49s 42ms/step - loss: 8.8761e-04\n",
      "Epoch 5/5\n",
      "1149/1149 [==============================] - 43s 37ms/step - loss: 5.7439e-04\n"
     ]
    },
    {
     "data": {
      "text/plain": [
       "<keras.src.callbacks.History at 0x22524ac2bc0>"
      ]
     },
     "execution_count": 55,
     "metadata": {},
     "output_type": "execute_result"
    }
   ],
   "source": [
    "model.fit(x_train,y_train,batch_size = 1,epochs=5)"
   ]
  },
  {
   "cell_type": "code",
   "execution_count": 56,
   "id": "9d87fec5-54dd-4370-b302-ee6dae3e6f58",
   "metadata": {},
   "outputs": [
    {
     "name": "stdout",
     "output_type": "stream",
     "text": [
      "10/10 [==============================] - 2s 28ms/step\n"
     ]
    }
   ],
   "source": [
    "predictions = model.predict(x_test)"
   ]
  },
  {
   "cell_type": "code",
   "execution_count": 57,
   "id": "a6542280-3acb-4310-93b1-774e1c7a8c35",
   "metadata": {},
   "outputs": [],
   "source": [
    "predictions = scaler.inverse_transform(predictions)"
   ]
  },
  {
   "cell_type": "code",
   "execution_count": 58,
   "id": "75e090b7-9505-4853-a969-843ac9553e31",
   "metadata": {},
   "outputs": [],
   "source": [
    "\n",
    "# Prepare the actual 'close' prices for comparison\n",
    "actual_prices = data[training_data_len:, 0]\n"
   ]
  },
  {
   "cell_type": "code",
   "execution_count": 59,
   "id": "52213463-4295-4208-a0b5-e373e4811462",
   "metadata": {},
   "outputs": [
    {
     "name": "stderr",
     "output_type": "stream",
     "text": [
      "C:\\Users\\Thinkpad\\AppData\\Local\\Temp\\ipykernel_8396\\4069698819.py:4: SettingWithCopyWarning: \n",
      "A value is trying to be set on a copy of a slice from a DataFrame.\n",
      "Try using .loc[row_indexer,col_indexer] = value instead\n",
      "\n",
      "See the caveats in the documentation: https://pandas.pydata.org/pandas-docs/stable/user_guide/indexing.html#returning-a-view-versus-a-copy\n",
      "  valid['Predictions'] = predictions   #predicted\n"
     ]
    },
    {
     "data": {
      "image/png": "[encoded data removed]",
      "text/plain": [
       "<Figure size 1600x800 with 1 Axes>"
      ]
     },
     "metadata": {},
     "output_type": "display_data"
    }
   ],
   "source": [
    "\n",
    "# Plot the data\n",
    "train = dataset[:training_data_len]  # actual \n",
    "valid = dataset[training_data_len:]  # test\n",
    "valid['Predictions'] = predictions   #predicted\n",
    "\n",
    "# Visualize the data\n",
    "plt.figure(figsize=(16,8))\n",
    "plt.title('Model')\n",
    "plt.xlabel('Date')\n",
    "plt.ylabel('Close Price USD ($)')\n",
    "plt.plot(train['Close'])\n",
    "plt.plot(valid[['Close', 'Predictions']])\n",
    "plt.legend(['Train', 'Val', 'Predictions'], loc='lower right')\n",
    "plt.show()"
   ]
  },
  {
   "cell_type": "code",
   "execution_count": 60,
   "id": "b5e14565-aff4-4b9b-9e84-78469b93a37b",
   "metadata": {},
   "outputs": [
    {
     "name": "stdout",
     "output_type": "stream",
     "text": [
      "Root Mean Squared Error: 37.45834839943956\n"
     ]
    }
   ],
   "source": [
    "# Calculate the root mean squared error (RMSE)\n",
    "rmse = np.sqrt(np.mean(((predictions - actual_prices) ** 2)))\n",
    "print('Root Mean Squared Error:', rmse)"
   ]
  },
  {
   "cell_type": "code",
   "execution_count": null,
   "id": "7a96c5ad-5517-4790-a363-63cecad02f52",
   "metadata": {},
   "outputs": [],
   "source": []
  },
  {
   "cell_type": "code",
   "execution_count": null,
   "id": "ead87ed1-f890-4778-93a0-16685430be58",
   "metadata": {},
   "outputs": [],
   "source": []
  },
  {
   "cell_type": "code",
   "execution_count": null,
   "id": "77b435e3-52fb-48e0-81d9-7719f3028258",
   "metadata": {},
   "outputs": [],
   "source": []
  },
  {
   "cell_type": "code",
   "execution_count": null,
   "id": "3b6ada94-9073-41be-b40b-80a594db1562",
   "metadata": {},
   "outputs": [],
   "source": []
  },
  {
   "cell_type": "code",
   "execution_count": null,
   "id": "07625aed-4f5a-4864-971c-1ee5abc173ac",
   "metadata": {},
   "outputs": [],
   "source": []
  }
 ],
 "metadata": {
  "kernelspec": {
   "display_name": "Python 3 (ipykernel)",
   "language": "python",
   "name": "python3"
  },
  "language_info": {
   "codemirror_mode": {
    "name": "ipython",
    "version": 3
   },
   "file_extension": ".py",
   "mimetype": "text/x-python",
   "name": "python",
   "nbconvert_exporter": "python",
   "pygments_lexer": "ipython3",
   "version": "3.10.9"
  }
 },
 "nbformat": 4,
 "nbformat_minor": 5
}
